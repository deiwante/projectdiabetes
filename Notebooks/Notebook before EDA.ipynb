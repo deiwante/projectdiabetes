{
 "cells": [
  {
   "cell_type": "code",
   "execution_count": 1,
   "id": "7aa848f7",
   "metadata": {},
   "outputs": [],
   "source": [
    "import pandas as pd\n",
    "diabetes = pd.read_csv('diabetes_raw.csv')\n",
    "url = 'diabetes_raw.csv'\n",
    "\n",
    "#I looked thru my date for columns, dtypes,empty columns and missing values. Chcecked size and shape.\n",
    "#diabetes.columns  \n",
    "#diabetes.dtypes\n",
    "#diabetes.head(200)\n",
    "new_df = diabetes.copy()\n",
    "new2_df = new_df.copy()"
   ]
  },
  {
   "cell_type": "code",
   "execution_count": 2,
   "id": "e9c4ee23",
   "metadata": {},
   "outputs": [
    {
     "data": {
      "text/plain": [
       "(101766, 51)"
      ]
     },
     "execution_count": 2,
     "metadata": {},
     "output_type": "execute_result"
    }
   ],
   "source": [
    "#I deleted columns that are not relevent to my hypothesis and the ones that contain too many NaN (e.g. A1Cresult) or too many unknows values ('weight') \"\"\"\n",
    "\n",
    "new2_df = new2_df.drop(['id', 'encounter_id', 'patient_nbr', 'admission_source_id', 'payer_code', 'number_emergency', 'number_inpatient', 'diag_1', 'max_glu_serum',\n",
    "       'metformin', 'repaglinide', 'nateglinide', 'chlorpropamide', 'weight','medical_specialty', 'insulin', \n",
    "       'glimepiride', 'acetohexamide', 'glipizide', 'glyburide', 'tolbutamide','race','time_in_hospital',\n",
    "       'pioglitazone', 'rosiglitazone', 'acarbose', 'miglitol', 'troglitazone','num_lab_procedures', 'num_medications', 'number_diagnoses',\n",
    "       'tolazamide', 'examide', 'citoglipton','admission_type_id', 'discharge_disposition_id', 'change','diabetesMed',\n",
    "       'glyburide.metformin', 'A1Cresult','glipizide.metformin', 'diag_2','diag_3','num_procedures',\n",
    "       'glimepiride.pioglitazone', 'metformin.rosiglitazone', 'number_outpatient', 'number_diagnoses', \n",
    "       'metformin.pioglitazone'], axis=1).reset_index()\n",
    "new2_df.shape\n",
    "#I looked for dublicates and checked the shape, made sure changes are matched.\n",
    "new_df.shape\n",
    "#new2_df.duplicated()\n",
    "#new2_df.info()\n"
   ]
  },
  {
   "cell_type": "code",
   "execution_count": 7,
   "id": "0db8aee8",
   "metadata": {},
   "outputs": [],
   "source": [
    "\n",
    "new2_df[\"gender\"].unique()  # 'Unknown/Invalid'\n",
    "new2_df.isnull().sum() \n",
    "new2_df = new2_df.drop(new2_df[new2_df['gender'] == 'Unknown/Invalid'].index)\n",
    "new2_df.head()\n",
    "# Output says 0 therefore the 3 values of Unknowsn I will remove \n",
    "new2_df['readmitted'] = new2_df['readmitted'].replace({'NO': \"No\", '>30': \"Yes\", '<30': \"Yes\"})\n"
   ]
  },
  {
   "cell_type": "code",
   "execution_count": 8,
   "id": "a7deb7bf",
   "metadata": {},
   "outputs": [
    {
     "data": {
      "text/plain": [
       "readmitted\n",
       "No     54861\n",
       "Yes    46902\n",
       "Name: count, dtype: int64"
      ]
     },
     "execution_count": 8,
     "metadata": {},
     "output_type": "execute_result"
    }
   ],
   "source": [
    "new2_df['readmitted'].value_counts()"
   ]
  },
  {
   "cell_type": "code",
   "execution_count": null,
   "id": "4c7bafee",
   "metadata": {},
   "outputs": [],
   "source": []
  }
 ],
 "metadata": {
  "kernelspec": {
   "display_name": "venvenviroment",
   "language": "python",
   "name": "venvenviroment"
  },
  "language_info": {
   "codemirror_mode": {
    "name": "ipython",
    "version": 3
   },
   "file_extension": ".py",
   "mimetype": "text/x-python",
   "name": "python",
   "nbconvert_exporter": "python",
   "pygments_lexer": "ipython3",
   "version": "3.11.5"
  }
 },
 "nbformat": 4,
 "nbformat_minor": 5
}
