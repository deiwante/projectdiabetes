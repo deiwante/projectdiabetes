{
 "cells": [
  {
   "cell_type": "code",
   "execution_count": 1,
   "id": "bc10f474",
   "metadata": {},
   "outputs": [],
   "source": [
    "import pandas as pd\n",
    "diabetes = pd.read_csv('diabetes_raw.csv')\n",
    "url = 'diabetes_raw.csv'\n",
    "\n",
    "#I looked thru my date for columns, dtypes,empty columns and missing values. Chcecked size and shape.\n",
    "# diabetes.columns  \n",
    "#diabetes.dtypes\n",
    "#diabetes.head(200)\n",
    "new_df = diabetes.copy()"
   ]
  },
  {
   "cell_type": "code",
   "execution_count": 2,
   "id": "03d76552",
   "metadata": {},
   "outputs": [
    {
     "data": {
      "text/plain": [
       "(101766, 4)"
      ]
     },
     "execution_count": 2,
     "metadata": {},
     "output_type": "execute_result"
    }
   ],
   "source": [
    "#I deleted columns that are not relevent to my hypothesis and the ones that contain too many NaN (e.g. A1Cresult) or too many unknows values ('weight') \"\"\"\n",
    "new2_df = new_df.copy()\n",
    "new2_df = new2_df.drop(['id', 'encounter_id', 'patient_nbr', 'admission_source_id', 'payer_code', 'number_emergency', 'number_inpatient', 'diag_1', 'max_glu_serum',\n",
    "       'metformin', 'repaglinide', 'nateglinide', 'chlorpropamide', 'weight','medical_specialty', 'insulin', \n",
    "       'glimepiride', 'acetohexamide', 'glipizide', 'glyburide', 'tolbutamide','race','time_in_hospital',\n",
    "       'pioglitazone', 'rosiglitazone', 'acarbose', 'miglitol', 'troglitazone','num_lab_procedures', 'num_medications', 'number_diagnoses',\n",
    "       'tolazamide', 'examide', 'citoglipton','admission_type_id', 'discharge_disposition_id', 'change','diabetesMed',\n",
    "       'glyburide.metformin', 'A1Cresult','glipizide.metformin', 'diag_2','diag_3','num_procedures',\n",
    "       'glimepiride.pioglitazone', 'metformin.rosiglitazone', 'number_outpatient', 'number_diagnoses', \n",
    "       'metformin.pioglitazone'], axis=1).reset_index()\n",
    "new2_df.shape\n",
    "#I looked for dublicates and checked the shape, made sure changes are matched.\n",
    "new_df.shape\n",
    "#new2_df.duplicated()\n",
    "#new2_df.info()\n",
    "new2_df.shape"
   ]
  },
  {
   "cell_type": "code",
   "execution_count": 3,
   "id": "a4b46736",
   "metadata": {},
   "outputs": [
    {
     "data": {
      "text/plain": [
       "(101763, 4)"
      ]
     },
     "execution_count": 3,
     "metadata": {},
     "output_type": "execute_result"
    }
   ],
   "source": [
    "new2_df[\"gender\"].unique()  # 'Unknown/Invalid'\n",
    "new2_df.isnull().sum() # Output says 0 therefore the 3 values of Unknowsn I will remove \n",
    "\n",
    "new2_df = new2_df.drop(new2_df[new2_df['gender'] == 'Unknown/Invalid'].index)\n",
    "new2_df.shape"
   ]
  },
  {
   "cell_type": "code",
   "execution_count": 23,
   "id": "7b8ba4d1",
   "metadata": {},
   "outputs": [],
   "source": [
    "#Getting to the most admitted age group and top 4 of all other groups.\n",
    "\n",
    "age_group = new2_df['age'].value_counts()\n",
    "age_group_more = age_group.idxmax()\n",
    "age_group_more # 70-80 output\n",
    "grouped = new2_df.groupby('age')\n",
    "#grouped.size() \n",
    "#[50-60)     17256\n",
    "#[60-70)     22483\n",
    "#[70-80)     26068\n",
    "#[80-90)     17197\n",
    "\n",
    "new2_df['readmitted'] = new2_df['readmitted'].replace({'NO': '0'})"
   ]
  },
  {
   "cell_type": "code",
   "execution_count": 20,
   "id": "8ea1055a",
   "metadata": {},
   "outputs": [
    {
     "data": {
      "text/plain": [
       "array(['0', '>30', '<30'], dtype=object)"
      ]
     },
     "execution_count": 20,
     "metadata": {},
     "output_type": "execute_result"
    }
   ],
   "source": [
    "new2_df[\"readmitted\"].unique() "
   ]
  },
  {
   "cell_type": "code",
   "execution_count": null,
   "id": "e01d2a54",
   "metadata": {
    "scrolled": true
   },
   "outputs": [],
   "source": []
  },
  {
   "cell_type": "code",
   "execution_count": null,
   "id": "2d02d993",
   "metadata": {},
   "outputs": [],
   "source": [
    "# I installed seaborn through terminal to be able to work on visuals\n",
    "import seaborn as sns\n",
    "import matplotlib.pyplot as plt\n",
    "\n",
    "# now aggregating the data to count the number of re-admittions per age group\n",
    "new3 = new2_df.groupby(['readmitted', 'gender'])['age'].count()\n",
    "new3"
   ]
  },
  {
   "cell_type": "code",
   "execution_count": null,
   "id": "bd834d0e",
   "metadata": {},
   "outputs": [],
   "source": [
    "sns.countplot(x='age', data=new2_df)"
   ]
  },
  {
   "cell_type": "code",
   "execution_count": null,
   "id": "d83e9eb6",
   "metadata": {},
   "outputs": [],
   "source": [
    "sns.swarmplot(data = new2_df, y='age', x='readmitted')"
   ]
  },
  {
   "cell_type": "code",
   "execution_count": null,
   "id": "e4c5a3a0",
   "metadata": {},
   "outputs": [],
   "source": []
  }
 ],
 "metadata": {
  "kernelspec": {
   "display_name": "venvenviroment",
   "language": "python",
   "name": "venvenviroment"
  },
  "language_info": {
   "codemirror_mode": {
    "name": "ipython",
    "version": 3
   },
   "file_extension": ".py",
   "mimetype": "text/x-python",
   "name": "python",
   "nbconvert_exporter": "python",
   "pygments_lexer": "ipython3",
   "version": "3.11.5"
  }
 },
 "nbformat": 4,
 "nbformat_minor": 5
}
