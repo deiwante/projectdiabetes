{
 "cells": [
  {
   "cell_type": "code",
   "execution_count": null,
   "id": "e15b357c",
   "metadata": {},
   "outputs": [],
   "source": [
    "import pandas as pd\n",
    "import plotly.express as px\n",
    "import seaborn as sns\n",
    "\n",
    "data4 = pd.read_csv(r'C:\\Users\\etsus\\Desktop\\IRONHACK\\PROJECT INDIVIDUAL\\Data\\raw\\data2.csv')\n",
    "\n",
    "new_df = data4.copy()\n",
    "new2_df = new_df.copy()\n",
    "#new2_df.shape   # (15340, 15)"
   ]
  },
  {
   "cell_type": "code",
   "execution_count": null,
   "id": "ed671f08",
   "metadata": {},
   "outputs": [],
   "source": [
    "new2_df = new2_df.drop(['PQI', 'Count_ICD9',\n",
    "       'Population_ICD9', 'ObsRate_ICD9', 'RiskAdjRate_ICD9', 'Count_ICD10',\n",
    "       'Population_ICD10', 'ObsRate_ICD10', 'RiskAdjRate_ICD10',\n",
    "       'AnnotationCode', 'AnnotationDesc'], axis=1).reset_index()\n",
    "\n",
    "#I deleted columns that are not associated with diabetes.\n",
    "\n",
    "# Created a list of conditions to remove rows that are not diabetes based conditions.\n",
    "\n",
    "conditions = ['COPD or Asthma in Older Adults (Age 40+)', 'Hypertension', 'Heart Failure',\n",
    "              'Dehydration', 'Community-Acquired Pneumonia', 'Urinary Tract Infection',\n",
    "              'Angina without Procedure', 'Asthma in Younger Adults (Age 18-39)',\n",
    "              'Prevention Quality Overall Composite', 'Overall Composite',\n",
    "              'Prevention Quality Acute Composite', 'Perforated Appendix','Acute Composite',\n",
    "              'Prevention Quality Chronic Composite', 'Chronic Composite']\n",
    "\n",
    "# Drop rows based on conditions\n",
    "rows_to_drop = new2_df[new2_df['PQIDescription'].isin(conditions)].index\n",
    "new2_df.drop(rows_to_drop, inplace=True)\n",
    "new2_df.shape \n",
    "#New shape changed from (15340, 15) to (4366, 5)\n",
    "\n",
    "# [\"PQIDescription\"].values_counts()\n",
    "# PQIDescription\n",
    "#Diabetes Long-term Complications         1003\n",
    "#Diabetes Short-term Complications        1003\n",
    "#Lower-Extremity Amputation (Diabetes)    1003\n",
    "#Uncontrolled Diabetes                    1003\n",
    "#Diabetes Composite   \n"
   ]
  },
  {
   "cell_type": "code",
   "execution_count": null,
   "id": "6bcc9ec0",
   "metadata": {},
   "outputs": [],
   "source": [
    "#A plot of admitted ambulatory care sensitive conditions\n",
    "df = data4\n",
    "\n",
    "# Count occurrences of each PQIDescription per year\n",
    "counts_df = df.groupby(['Year', 'PQIDescription']).size().reset_index(name='Counts')\n",
    "\n",
    "# Plot the bar chart\n",
    "fig = px.bar(counts_df, x=\"Year\", y=\"Counts\", color=\"PQIDescription\",\n",
    "             title=\"Counts of PQIDescription per Year\")\n",
    "fig.show()"
   ]
  },
  {
   "cell_type": "code",
   "execution_count": null,
   "id": "1da04ae6",
   "metadata": {
    "scrolled": true
   },
   "outputs": [],
   "source": [
    "#A plot of admittions just with diabetes based issues.Which takes over 28,4% of all issues.\n",
    "df = new2_df\n",
    "\n",
    "# Count occurrences of each PQIDescription per year\n",
    "counts_df = df.groupby(['Year', 'PQIDescription']).size().reset_index(name='Counts')\n",
    "\n",
    "# Plot the bar chart\n",
    "fig = px.bar(counts_df, x=\"Year\", y=\"Counts\", color=\"PQIDescription\",\n",
    "             title=\"Counts of PQIDescription per Year\")\n",
    "fig.show()"
   ]
  },
  {
   "cell_type": "code",
   "execution_count": null,
   "id": "f20c8490",
   "metadata": {},
   "outputs": [],
   "source": [
    "new2_df.to_pickle(\"cleaned_data2.csv\")"
   ]
  },
  {
   "cell_type": "code",
   "execution_count": null,
   "id": "283d3e4b",
   "metadata": {},
   "outputs": [],
   "source": []
  }
 ],
 "metadata": {
  "kernelspec": {
   "display_name": "venvenviroment",
   "language": "python",
   "name": "venvenviroment"
  },
  "language_info": {
   "codemirror_mode": {
    "name": "ipython",
    "version": 3
   },
   "file_extension": ".py",
   "mimetype": "text/x-python",
   "name": "python",
   "nbconvert_exporter": "python",
   "pygments_lexer": "ipython3",
   "version": "3.11.5"
  }
 },
 "nbformat": 4,
 "nbformat_minor": 5
}
