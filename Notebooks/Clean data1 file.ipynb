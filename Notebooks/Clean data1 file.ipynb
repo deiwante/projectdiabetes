{
 "cells": [
  {
   "cell_type": "code",
   "execution_count": null,
   "id": "bc10f474",
   "metadata": {},
   "outputs": [],
   "source": [
    "import pandas as pd\n",
    "# pd.read_csv(\"../data/raw/filename.csv\")\n",
    "diabetes = pd.read_csv(r'C:\\Users\\etsus\\Desktop\\IRONHACK\\PROJECT INDIVIDUAL\\Data\\raw\\data1.csv')\n",
    "\n",
    "\n",
    "#I investigated my date for columns, dtypes,empty columns and missing values. Chcecked size and shape,and made a copy.\n",
    "new_df = diabetes.copy()\n",
    "new2_df = new_df.copy()\n",
    "\n",
    "#I deleted columns that are not relevent to my hypothesis and the ones that contain too many NaN (e.g. A1Cresult) or too many unknows values ('weight') \"\"\"\n",
    "new2_df = new2_df.drop(['id', 'encounter_id', 'patient_nbr', 'admission_source_id', 'payer_code', 'number_emergency', 'number_inpatient', 'diag_1', 'max_glu_serum',\n",
    "       'metformin', 'repaglinide', 'nateglinide', 'chlorpropamide', 'weight','medical_specialty', 'insulin', \n",
    "       'glimepiride', 'acetohexamide', 'glipizide', 'glyburide', 'tolbutamide','race','time_in_hospital',\n",
    "       'pioglitazone', 'rosiglitazone', 'acarbose', 'miglitol', 'troglitazone','num_lab_procedures', 'num_medications', 'number_diagnoses',\n",
    "       'tolazamide', 'examide', 'citoglipton','admission_type_id', 'discharge_disposition_id', 'change','diabetesMed',\n",
    "       'glyburide.metformin', 'A1Cresult','glipizide.metformin', 'diag_2','diag_3','num_procedures',\n",
    "       'glimepiride.pioglitazone', 'metformin.rosiglitazone', 'number_outpatient', 'number_diagnoses', \n",
    "       'metformin.pioglitazone'], axis=1).reset_index()\n",
    "new2_df.shape\n",
    "\n",
    "\n",
    "#I looked for dublicates and checked the shape, made sure changes are matched. In this case dublicates stayed since they are possible.\n",
    "#new2_df.duplicated()\n",
    "#new2_df.info()\n",
    "\n",
    "#Since 3 valyes were Unknows/Invalid I decided to remove it,it was not affecting data that much\n",
    "new2_df[\"gender\"].unique()  # 'Unknown/Invalid'\n",
    "new2_df.isnull().sum() \n",
    "new2_df = new2_df.drop(new2_df[new2_df['gender'] == 'Unknown/Invalid'].index)\n",
    "\n",
    "#Getting to the most admitted age group and top 4 of all other groups.\n",
    "age_group = new2_df['age'].value_counts()\n",
    "age_group_more = age_group.idxmax()\n",
    "age_group_more \n",
    "grouped = new2_df.groupby('age')\n",
    "\n",
    "#[50-60)     17256\n",
    "#[60-70)     22483\n",
    "#[70-80)     26068\n",
    "#[80-90)     17197\n",
    "\n",
    "#Changing the value counts to yes or no, since available options were 3 and 2 of them indicated positive outcome.\n",
    "new2_df['readmitted'] = new2_df['readmitted'].replace({'NO': \"No\", '>30': \"Yes\", '<30': \"Yes\"})\n",
    "new2_df[\"age\"] = new2_df[\"age\"].replace({'[0-10)': 5,'[10-20)': 15,'[20-30)': 25,'[30-40)': 35,'[40-50)': 45,'[50-60)': 55,'[60-70)': 65,'[70-80)': 75,'[80-90)': 85,'[90-100)': 95}).infer_objects(copy=False)\n",
    "\n",
    "\n",
    "#Checking the value counts of readmitions after names were repalced\n",
    "new2_df['readmitted'].value_counts()"
   ]
  },
  {
   "cell_type": "code",
   "execution_count": null,
   "id": "c2b54678",
   "metadata": {},
   "outputs": [],
   "source": [
    "import plotly.express as px\n",
    "from dash import Dash, dcc, html, Input, Output\n",
    "import matplotlib.pyplot as plt\n",
    "import plotly.express as px\n",
    "import plotly.graph_objects as go\n",
    "import seaborn as sns"
   ]
  },
  {
   "cell_type": "code",
   "execution_count": null,
   "id": "d7577a99",
   "metadata": {},
   "outputs": [],
   "source": [
    "sns.countplot(x='age',  data=new2_df, hue=\"readmitted\");\n",
    "#plt.savefig(\"../Resources/figure.png\")"
   ]
  },
  {
   "cell_type": "code",
   "execution_count": null,
   "id": "7d468ef5",
   "metadata": {},
   "outputs": [],
   "source": [
    "sns.countplot(x='readmitted',  data=new2_df)"
   ]
  },
  {
   "cell_type": "code",
   "execution_count": null,
   "id": "4e56e358",
   "metadata": {},
   "outputs": [],
   "source": [
    "new2_df.to_pickle(\"cleaned_data1.csv\")"
   ]
  },
  {
   "cell_type": "code",
   "execution_count": null,
   "id": "d55a9c3e",
   "metadata": {},
   "outputs": [],
   "source": []
  }
 ],
 "metadata": {
  "kernelspec": {
   "display_name": "venvenviroment",
   "language": "python",
   "name": "venvenviroment"
  },
  "language_info": {
   "codemirror_mode": {
    "name": "ipython",
    "version": 3
   },
   "file_extension": ".py",
   "mimetype": "text/x-python",
   "name": "python",
   "nbconvert_exporter": "python",
   "pygments_lexer": "ipython3",
   "version": "3.11.5"
  }
 },
 "nbformat": 4,
 "nbformat_minor": 5
}
